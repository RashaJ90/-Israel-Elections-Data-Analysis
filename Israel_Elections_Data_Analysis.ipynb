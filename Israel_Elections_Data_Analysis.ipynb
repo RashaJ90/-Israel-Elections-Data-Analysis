[![Open In Colab](https://colab.research.google.com/drive/1ZIOZKPd_gkDeh5xDHb0R9chlABcBIL5p?authuser=1)](https://colab.research.google.com/github/googlecolab/colabtools/blob/master/notebooks/colab-github-demo.ipynb)

{
  "nbformat": 4,
  "nbformat_minor": 0,
  "metadata": {
    "colab": {
      "name": " Israel Elections Data Analysis.ipynb",
      "provenance": [],
      "collapsed_sections": []
    },
    "kernelspec": {
      "name": "python3",
      "display_name": "Python 3"
    }
  },
  "cells": [
    {
      "cell_type": "markdown",
      "metadata": {
        "id": "YmK_JhphVtUG"
      },
      "source": [
        "\n",
        "# Israel Elections Data Analysis\n",
        "Author: Rasha Jaber"
      ]
    },
    {
      "cell_type": "markdown",
      "metadata": {
        "id": "xvw93HyLWQJ0"
      },
      "source": [
        "In this notebook I will present the analysis of  Israel 2020 elections.based on the data based in https://votes23.bechirot.gov.il/"
      ]
    },
    {
      "cell_type": "code",
      "metadata": {
        "id": "BIPYWQ70VqNc"
      },
      "source": [
        "#Add a check if we run in google colab or locally in jupyter notebook\n",
        "run_in_colab = False\n",
        "if 'google.colab' in str(get_ipython()):\n",
        "    run_in_colab = True\n",
        "    print('Running on CoLab')\n",
        "else:\n",
        "    print('Running locally on Jupyter')"
      ],
      "execution_count": null,
      "outputs": []
    },
    {
      "cell_type": "code",
      "metadata": {
        "id": "gXoqPM-2YBVK"
      },
      "source": [
        "from matplotlib import pyplot as plt#a module for working with plots\n",
        "import numpy as np  # a module for working with numerical array \n",
        "import pandas as pd  # a module for working with data-frames\n"
      ],
      "execution_count": null,
      "outputs": []
    },
    {
      "cell_type": "markdown",
      "metadata": {
        "id": "k3AqA84GYLQE"
      },
      "source": [
        "First, we need to mount our local drive to the colab network\n"
      ]
    },
    {
      "cell_type": "code",
      "metadata": {
        "id": "I8ONLpIEYK7d"
      },
      "source": [
        "# Mount drive in google colab\n",
        "\n",
        "from google.colab import drive\n",
        "drive.mount('/content/drive')\n"
      ],
      "execution_count": null,
      "outputs": []
    },
    {
      "cell_type": "code",
      "metadata": {
        "id": "MWlVraAYWr-s"
      },
      "source": [
        "import io\n",
        "df_2020_raw = pd.read_csv(io.BytesIO(uploaded['votes per city 2020.csv']),  encoding = 'iso-8859-8', index_col='שם ישוב')\n",
        "# Dataset is now stored in a Pandas Dataframe\n",
        "print(df_2020_raw.columns)\n",
        "df_2020_raw.head()"
      ],
      "execution_count": null,
      "outputs": []
    },
    {
      "cell_type": "code",
      "metadata": {
        "id": "03yzi1EWYhkH"
      },
      "source": [
        "df_2020 = df_2020_raw.drop('סמל ועדה', axis=1) # new column added in Sep 2019\n",
        "df_2020 = df_2020[df_2020.columns[5:-1]] # removing \"metadata\" columns\n",
        "print(\"{} votes in March 2020\".format(df_2020_raw['כשרים']['מעטפות חיצוניות']) + ' מעטפות חיצוניות ')"
      ],
      "execution_count": null,
      "outputs": []
    },
    {
      "cell_type": "code",
      "metadata": {
        "id": "ty9msF8EYlQL"
      },
      "source": [
        "print(df_2020_raw.columns)\n",
        "df_2020.head()"
      ],
      "execution_count": null,
      "outputs": []
    },
    {
      "cell_type": "code",
      "metadata": {
        "id": "JWfijRTAYpdC"
      },
      "source": [
        "df_2020.describe()"
      ],
      "execution_count": null,
      "outputs": []
    },
    {
      "cell_type": "markdown",
      "metadata": {
        "id": "fDBlv2m9Y9Ne"
      },
      "source": [
        "Next, we create a function for showing a bar plot of the voting **percentage** in a given city, while showing only the parties above a % threshold "
      ]
    },
    {
      "cell_type": "code",
      "metadata": {
        "id": "oPHZir5xXhs3"
      },
      "source": [
        "# Compute votes share only for parties above a certain threshold \n",
        "def parties_votes_percents(df, thresh):\n",
        "    par = df.sum().div(df.sum().sum()).sort_values(ascending=False)\n",
        "    return par[par > thresh]\n",
        "\n",
        "total_votes = parties_votes_percents(df_2020, 0.0325)  # total votes for each party\n",
        "print(list(total_votes.index))"
      ],
      "execution_count": null,
      "outputs": []
    },
    {
      "cell_type": "markdown",
      "metadata": {
        "id": "y-R_lu3UZHVN"
      },
      "source": [
        "Find for a party the city with the strongest support"
      ]
    },
    {
      "cell_type": "code",
      "metadata": {
        "id": "UtD-BzdtZIRy"
      },
      "source": [
        "def find_top_city(df, party):\n",
        "\n",
        "  votes_percent_per_city = df.div(df.sum(axis=1), axis=0)\n",
        "  print(votes_percent_per_city[party].max())\n",
        "  print(votes_percent_per_city[party].idxmax())\n",
        "\n",
        "find_top_city(df_2020, 'מחל')\n",
        "find_top_city(df_2020, 'פה')\n",
        "find_top_city(df_2020, 'ג')\n",
        "find_top_city(df_2020, 'ודעם')"
      ],
      "execution_count": null,
      "outputs": []
    },
    {
      "cell_type": "markdown",
      "metadata": {
        "id": "zkOaBXDtZP_M"
      },
      "source": [
        "Histogram of Disqualified Votes"
      ]
    },
    {
      "cell_type": "code",
      "metadata": {
        "id": "vUjSn_j8ZQyo"
      },
      "source": [
        "disqualified_votes = 100*(df_2020_raw['פסולים']/df_2020_raw['מצביעים'])\n",
        "\n",
        "disqualified_votes.hist(bins=100)"
      ],
      "execution_count": null,
      "outputs": []
    },
    {
      "cell_type": "code",
      "metadata": {
        "id": "ONj4Hi9jZVKR"
      },
      "source": [
        "print(round(disqualified_votes.sort_values(ascending=False)[0:3],3))"
      ],
      "execution_count": null,
      "outputs": []
    },
    {
      "cell_type": "markdown",
      "metadata": {
        "id": "BMEkO9foZYDY"
      },
      "source": [
        "Bar plot for cities with more than 50,000 residents"
      ]
    },
    {
      "cell_type": "code",
      "metadata": {
        "id": "SZ-B5sNoZY3q"
      },
      "source": [
        "# Bar plot for a party, only showing values above a certain threshold\n",
        "def party_bar(df, thresh, city1, city2):\n",
        "    width = 0.3  # set column width \n",
        "    votes = parties_votes_percents(df, thresh)  # total votes for each of the 8 parties\n",
        "    n = len(votes)  # number of parties\n",
        "    names = votes.keys() # names of parties\n",
        "    rev_cities = [city[::-1] for city in list([city1,city2])]\n",
        "    rev_names = [name[::-1] for name in list(names)]\n",
        "    fig, ax = plt.subplots()  # plt.subplots()\n",
        "\n",
        "    #Percentage of votes for each city\n",
        "    city_votes1 = df.loc[city1,names] / df.loc[city1,names].sum()\n",
        "    city_votes2 = df.loc[city2,names] / df.loc[city2,names].sum()\n",
        "\n",
        "    city_bar1 = ax.bar(np.arange(n), list(city_votes1), width, color='b')\n",
        "    city_bar2 = ax.bar(np.arange(n)+width, list(city_votes2), width, color='r')\n",
        "\n",
        "    ax.set_ylabel('Votes percent')\n",
        "    ax.set_xlabel('Parties Names')\n",
        "    ax.set_title('Votes percent per party 2019 for cities: {} - {}'.format(rev_cities[0],rev_cities[1]))\n",
        "    ax.set_xticks(np.arange(n))\n",
        "    ax.set_xticklabels(rev_names)\n",
        "    ax.legend((city_bar1[0], city_bar2[0]), (city1[::-1], city2[::-1]))\n",
        "    plt.show()\n",
        "\n",
        "    return fig, ax"
      ],
      "execution_count": null,
      "outputs": []
    },
    {
      "cell_type": "code",
      "metadata": {
        "id": "wBGCHsOUZeVy"
      },
      "source": [
        "party_bar(df_2020, 0.0325, 'תל אביב  יפו', 'רמת גן')"
      ],
      "execution_count": null,
      "outputs": []
    },
    {
      "cell_type": "markdown",
      "metadata": {
        "id": "OOR83ORIZlwC"
      },
      "source": [
        "Distance of votes of a certain city from Israel total percentage of votes and its affect on the votes"
      ]
    },
    {
      "cell_type": "code",
      "metadata": {
        "id": "9fy2NV6XZ9wv"
      },
      "source": [
        "#Percents of votes for all the parties in Israel\n",
        "def all_parties_votes_percents(df):\n",
        "    par = df.sum().div(df.sum().sum()).sort_values(ascending=False)\n",
        "    return par\n",
        "\n",
        "total_votes = all_parties_votes_percents(df_2020)  # votes in percents for all parties\n",
        "total_votes.plot.bar()\n",
        "\n",
        "# Bar plot for a party, showing all parties(this time the thresh is zero)\n",
        "def party_bar_distance(df, distance):\n",
        "    width = 0.3  # set column width \n",
        "    votes = all_parties_votes_percents(df)  # votes in percents for all parties\n",
        "    n = len(votes)  # number of parties\n",
        "    names = votes.keys() # names of parties\n",
        "\n",
        "    rev_names = [name[::-1] for name in list(names)]\n",
        "    fig, ax = plt.subplots()  # plt.subplots()\n",
        "\n",
        "    # Find the nearest and the farthest city (in percentage) to Israel\n",
        "    #total party votes\n",
        "    cities = df.index.tolist()\n",
        "    cities.remove('מעטפות חיצוניות')\n",
        "    percent = {}\n",
        "\n",
        "    for city in cities:\n",
        "      city_percent = df.loc[city,names] / df.loc[city,names].sum() \n",
        "      percent[city] = round(((votes-city_percent)**2).sum(),3)\n",
        "\n",
        "    if distance == 'far':\n",
        "      city_value = max(percent.values())\n",
        "      city = [k for k, v in percent.items() if v == city_value][0]\n",
        "    if distance == 'close':\n",
        "      city_value = min(percent.values())\n",
        "      city = [k for k, v in percent.items() if v == city_value][0]\n",
        "\n",
        "    print(city, city_value)\n",
        "\n",
        "\n",
        "\n",
        "    city_votes = df.loc[city,names] / df.loc[city,names].sum()\n",
        "    all_bar = ax.bar(np.arange(n), list(votes), width, color='b')\n",
        "    city_bar = ax.bar(np.arange(n)+width, list(city_votes), width, color='r')\n",
        "    \n",
        "  \n",
        "    ax.set_ylabel('Votes percent')\n",
        "    ax.set_xlabel('Parties Names')\n",
        "    ax.set_title('Votes percent per party 2019 for {}'.format(city[::-1]))\n",
        "    ax.set_xticks(np.arange(n))\n",
        "    ax.set_xticklabels(rev_names, rotation = 90)\n",
        "    ax.legend((all_bar[0], city_bar[0]), ('Israel', city[::-1]))\n",
        "    plt.show()\n",
        "    return fig, ax"
      ],
      "execution_count": null,
      "outputs": []
    },
    {
      "cell_type": "code",
      "metadata": {
        "id": "6DcB_NNkZ-lm"
      },
      "source": [
        "party_bar_distance(df_2020,'close')"
      ],
      "execution_count": null,
      "outputs": []
    },
    {
      "cell_type": "code",
      "metadata": {
        "id": "dZ9WavRFaCcs"
      },
      "source": [
        "party_bar_distance(df_2020,'far')"
      ],
      "execution_count": null,
      "outputs": []
    },
    {
      "cell_type": "markdown",
      "metadata": {
        "id": "66TDrPvAaXBG"
      },
      "source": [
        "ScatterPlot of two parties, showing the distribution of votes"
      ]
    },
    {
      "cell_type": "code",
      "metadata": {
        "id": "g_5anT16abNO"
      },
      "source": [
        "df_2020 = df_2020.rename(columns = {'מחל':'הליכוד','פה':'כחול לבן','ודעם':'הרשימה המשותפת','שס':'שס','ג':'יהדות התורה','אמת' : 'עבודה גשר מרצ','ל'  : 'ישראל ביתנו','טב'  : 'ימינה'})\n",
        "\n",
        "def two_parties_scatter_proportion(df, party1, party2):\n",
        "    votes_per_city = df.sum(axis=1)\n",
        "    party_share1 = df[party1] / votes_per_city\n",
        "    party_share2 = df[party2] / votes_per_city\n",
        "    size = 200*(votes_per_city/max(votes_per_city))\n",
        "    plt.scatter(party_share1, party_share2,s=size, c='b')  # Here draw circles with area proportional to city size\n",
        "    plt.xlabel(party1[::-1])\n",
        "    plt.ylabel(party2[::-1])\n",
        "    plt.title('Scatter for the two parties {}-{} '.format(party1[::-1],party2[::-1]) )\n",
        "    plt.show()"
      ],
      "execution_count": null,
      "outputs": []
    },
    {
      "cell_type": "code",
      "metadata": {
        "id": "KY3MdjXBaedW"
      },
      "source": [
        "two_parties_scatter_proportion(df_2020, 'כחול לבן', 'הליכוד')"
      ],
      "execution_count": null,
      "outputs": []
    },
    {
      "cell_type": "markdown",
      "metadata": {
        "id": "3ojeyMElamDI"
      },
      "source": [
        "Heatmap for the top(biggest) eight parties showing the freaquency of votes in different areas-\n",
        "Pearson correlation coefficient"
      ]
    },
    {
      "cell_type": "code",
      "metadata": {
        "id": "uhyzDsblanBy"
      },
      "source": [
        "def heatmap_cor(df, names):\n",
        "    city_votes = df[names] / df[names].sum()\n",
        "    corr_mat = city_votes.corr()\n",
        "\n",
        "    rev_names = [name[::-1] for name in list(names)]\n",
        "    fig, ax = plt.subplots()\n",
        "    im = ax.imshow(corr_mat, cmap=plt.get_cmap('GnBu'))\n",
        "    n = corr_mat.shape[0]  # get number of variables \n",
        "    ax.set_xticks(np.arange(n))\n",
        "    ax.set_yticks(np.arange(n))\n",
        "    ax.set_xticklabels(rev_names)\n",
        "    ax.set_yticklabels(rev_names)\n",
        "    ax.set_title(\"Parties pairwise correlations\")\n",
        "    plt.xticks(rotation=90)\n",
        "    # Create colorbar\n",
        "    cbar = ax.figure.colorbar(im, ax=ax) #  **cbar_kw)\n",
        "    cbar.ax.set_ylabel('votes correlation', rotation=-90, va=\"bottom\")\n",
        "\n",
        "\n"
      ],
      "execution_count": null,
      "outputs": []
    },
    {
      "cell_type": "code",
      "metadata": {
        "id": "1_J7R_n1a1HE"
      },
      "source": [
        "# Parties are sorted by their size\n",
        "parties_over_threshold = df_2020[['הליכוד','כחול לבן','הרשימה המשותפת','שס','יהדות התורה','עבודה גשר מרצ','ישראל ביתנו','ימינה']]\n",
        "parties_correlation = parties_over_threshold.corr()\n",
        "heatmap_cor(parties_correlation.corr(),list(parties_correlation.columns))"
      ],
      "execution_count": null,
      "outputs": []
    },
    {
      "cell_type": "code",
      "metadata": {
        "id": "eyQVqcB_asmv"
      },
      "source": [
        "# Parties are sorted by their political agendas\n",
        "parties_by_agenda=df_2020[['הליכוד','ישראל ביתנו','ימינה','שס','יהדות התורה','כחול לבן','עבודה גשר מרצ','הרשימה המשותפת']]\n",
        "parties_agenda_correlation = parties_by_agenda.corr()\n",
        "heatmap_cor(parties_agenda_correlation,list(parties_agenda_correlation.columns))"
      ],
      "execution_count": null,
      "outputs": []
    },
    {
      "cell_type": "markdown",
      "metadata": {
        "id": "MtKoUfy7a3Yw"
      },
      "source": [
        "barplot examining the effect of differences in votes(כשרים/בעלי זכות הצבעה) on the frequency of votes per party"
      ]
    },
    {
      "cell_type": "code",
      "metadata": {
        "id": "HckaX4yMa80X"
      },
      "source": [
        "def party_bar_correction(df,city, ballot):\n",
        "    width = 0.3  # set column width \n",
        "    votes = parties_votes_percents(df, 0.0325)  # total votes for each of the 8 parties\n",
        "    n = len(votes)  # number of parties\n",
        "    names = votes.keys() \n",
        "    rev_names = [name[::-1] for name in list(names)]\n",
        "    fig, ax = plt.subplots()  # plt.subplots()\n",
        "\n",
        "    if ballot:# the function will work on boths cities and ballots \n",
        "      voters = df_2020_ballots_raw.loc[df_2020_ballots_raw['קלפי'] == ballot]['בזב']\n",
        "      total_voters = voters[city]/1000\n",
        "      # here we need to divide the number of votes per party on the the sum of votes per city per ballot \n",
        "      city_votes = df_2020_ballots_raw.loc[df_2020_ballots_raw['קלפי'] == ballot][names].loc[city] / df_2020_ballots_raw.loc[df_2020_ballots_raw['קלפי'] == ballot][names].loc[city].sum()\n",
        "      ax.set_title('Votes percent per party 2019 for {} - ballot {}'.format(city[::-1], ballot))\n",
        "    else:\n",
        "      total_voters = df_2020_raw.loc[city,'בזב']/100000\n",
        "      city_votes = df.loc[city,names] / df.loc[city,names].sum()\n",
        "      ax.set_title('Votes percent per party 2019 for {}'.format(city[::-1]))\n",
        "\n",
        "\n",
        "    \n",
        "    city_votes_correction = city_votes*total_voters # percentage of people who didn't vote\n",
        "    corr_bar = ax.bar(np.arange(n), list(city_votes_correction), width, color='b')\n",
        "    city_bar = ax.bar(np.arange(n)+width, list(city_votes), width, color='r')\n",
        "    c = ['מצביעים כשרים', 'כלל ההצבעות']\n",
        "  \n",
        "    ax.set_ylabel('Votes percent')\n",
        "    ax.set_xlabel('Parties Names')\n",
        "    ax.set_xticks(np.arange(n))\n",
        "    ax.set_xticklabels(rev_names, rotation = 90)\n",
        "    ax.legend((corr_bar[0], city_bar[0]), (c[1][::-1], c[0][::-1]))\n",
        "    plt.show()\n",
        "    return fig, ax"
      ],
      "execution_count": null,
      "outputs": []
    },
    {
      "cell_type": "code",
      "metadata": {
        "id": "-8Vi0SdmbAFP"
      },
      "source": [
        "party_bar_correction(df_2020,'חיפה',0)"
      ],
      "execution_count": null,
      "outputs": []
    }
  ]
}
